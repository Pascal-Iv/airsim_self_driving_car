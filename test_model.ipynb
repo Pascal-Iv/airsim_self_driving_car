{
 "cells": [
  {
   "cell_type": "markdown",
   "metadata": {},
   "source": [
    "### Autonomous Driving in Airsim: Testing the driving"
   ]
  },
  {
   "cell_type": "code",
   "execution_count": null,
   "metadata": {},
   "outputs": [],
   "source": [
    "from keras.models import load_model\n",
    "import sys\n",
    "import numpy as np\n",
    "import os\n",
    "import airsim\n",
    "from AirSimClient import *\n",
    "\n",
    "MODEL_PATH = \"model/models/model_ls_final.h5\"\n",
    "\n",
    "    \n",
    "os.chdir('C:/Users/Pascal/AppData/Local/Programs/Python/Python35/Scripts/AppliedDataScience/AirSim_Experiments/')\n"
   ]
  },
  {
   "cell_type": "code",
   "execution_count": null,
   "metadata": {},
   "outputs": [],
   "source": [
    "model = load_model(MODEL_PATH)\n",
    "\n",
    "# connect to the AirSim simulator \n",
    "client = airsim.CarClient()\n",
    "client.confirmConnection()\n",
    "client.enableApiControl(True)\n",
    "car_controls = airsim.CarControls()\n",
    "\n",
    "car_controls.steering = 0\n",
    "car_controls.throttle = 0\n",
    "car_controls.brake = 0\n",
    "\n",
    "\n",
    "image_in = np.zeros((1, 59, 255, 3))\n",
    "\n",
    "# function to request an image from the front camera\n",
    "def get_image():\n",
    "    image_response = client.simGetImages([ImageRequest(0, AirSimImageType.Scene, False, False)])[0]\n",
    "    image1d = np.fromstring(image_response.image_data_uint8, dtype=np.uint8)\n",
    "    image_rgba = image1d.reshape(image_response.height, image_response.width, 4)\n",
    "    \n",
    "    return image_rgba[76:135,0:255,0:3].astype(float)\n",
    "\n",
    "# start driving\n",
    "while (True):\n",
    "    car_state = client.getCarState()\n",
    "    \n",
    "    # accelerate if below 8 m/s (~30 km/h)\n",
    "    if (car_state.speed < 8):\n",
    "        car_controls.throttle = 1.0\n",
    "    else:\n",
    "        car_controls.throttle = 0.0\n",
    "    \n",
    "    image_in[0] = get_image()\n",
    "    \n",
    "    # predict the steering with the CNN\n",
    "    model_output = model.predict(image_in)\n",
    "    car_controls.steering = float(model_output[0][0])\n",
    "    \n",
    "    print('Sending steering = {0}, throttle = {1}'.format(car_controls.steering, car_controls.throttle))\n",
    "    \n",
    "    client.setCarControls(car_controls)\n",
    "  "
   ]
  }
 ],
 "metadata": {
  "kernelspec": {
   "display_name": "Python 3",
   "language": "python",
   "name": "python3"
  },
  "language_info": {
   "codemirror_mode": {
    "name": "ipython",
    "version": 3
   },
   "file_extension": ".py",
   "mimetype": "text/x-python",
   "name": "python",
   "nbconvert_exporter": "python",
   "pygments_lexer": "ipython3",
   "version": "3.5.2"
  }
 },
 "nbformat": 4,
 "nbformat_minor": 2
}
