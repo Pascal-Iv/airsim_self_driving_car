{
 "cells": [
  {
   "cell_type": "markdown",
   "metadata": {},
   "source": [
    "### Autonomous Driving in Airsim: Preparing the data and label softening"
   ]
  },
  {
   "cell_type": "code",
   "execution_count": 1,
   "metadata": {},
   "outputs": [],
   "source": [
    "import pandas as pd\n",
    "import numpy as np\n",
    "import h5py\n",
    "from PIL import Image, ImageDraw\n",
    "import matplotlib.pyplot as plt\n",
    "import os\n",
    "import random\n",
    "\n",
    "# directories of the raw data\n",
    "RAW_TRAIN_DATA_PATH = 'raw_data/traincombined'\n",
    "RAW_TEST_DATA_PATH = 'raw_data/test'\n",
    "RAW_VALID_DATA_PATH = 'raw_data/validation'\n",
    "\n",
    "# output directory for the preprocessed data\n",
    "OUTPUT_DATA_PATH= 'preprocessed_data_ls/'\n",
    "\n",
    "\n",
    "os.chdir(\"C:/Users/Pascal/AppData/Local/Programs/Python/Python35/Scripts/AppliedDataScience/AirSim_Experiments/label_smoothing\")\n"
   ]
  },
  {
   "cell_type": "code",
   "execution_count": 3,
   "metadata": {},
   "outputs": [
    {
     "name": "stdout",
     "output_type": "stream",
     "text": [
      "processing: ls/traincombined.h5\n",
      "processing: ls/test.h5\n",
      "processing: ls/validation.h5\n"
     ]
    }
   ],
   "source": [
    "\n",
    "for PATH in [RAW_TRAIN_DATA_PATH, RAW_TEST_DATA_PATH, RAW_VALID_DATA_PATH]:\n",
    "    # check if it exists already preprocessed data at the given location, if so skip this iteration\n",
    "    file = OUTPUT_DATA_PATH + PATH[9:] + \".h5\"  # to create /train.h5, /test.h5 , /valid.h5  \n",
    "\n",
    "    if(os.path.isfile(file) ):\n",
    "        print(file + \" exists already... continue\")\n",
    "        continue\n",
    " \n",
    "    record = pd.read_csv(PATH + '/airsim_rec.txt', sep='\\t') \n",
    "    \n",
    "    # the file names of the images \n",
    "    image_names = np.array(record[\"ImageFile\"])  \n",
    "    \n",
    "    # the steering which correspong to the images\n",
    "    c_steering = pd.read_csv(PATH + '/airsim_rec.txt', sep='\\t')[\"Steering\"]\n",
    "\n",
    "    \n",
    "    smooth_steering = np.array([0.]*len(c_steering))\n",
    "    \n",
    "    # indices where steering is 1 or -1\n",
    "    ind_steer_right = np.argwhere(c_steering == 1.).flatten()\n",
    "    ind_steer_left  = np.argwhere(c_steering == -1.).flatten()\n",
    "\n",
    "    # apply the label softening sliding window\n",
    "    smooth_steering[ind_steer_right] = smooth_steering[ind_steer_right]+0.4\n",
    "    smooth_steering[ind_steer_right+1] = smooth_steering[ind_steer_right+1]+0.2\n",
    "    smooth_steering[ind_steer_right+2] = smooth_steering[ind_steer_right+2]+0.1\n",
    "    smooth_steering[ind_steer_right-1] = smooth_steering[ind_steer_right-1]+0.2\n",
    "    smooth_steering[ind_steer_right-2] = smooth_steering[ind_steer_right-2]+0.1\n",
    "\n",
    "    smooth_steering[ind_steer_left] = smooth_steering[ind_steer_left]-0.4\n",
    "    smooth_steering[ind_steer_left+1] = smooth_steering[ind_steer_left+1]-0.2\n",
    "    smooth_steering[ind_steer_left+2] = smooth_steering[ind_steer_left+2]-0.1\n",
    "    smooth_steering[ind_steer_left-1] = smooth_steering[ind_steer_left-1]-0.2\n",
    "    smooth_steering[ind_steer_left-2] = smooth_steering[ind_steer_left-2]-0.1\n",
    "    \n",
    "    \n",
    "    \n",
    "    \n",
    "    current_steering = smooth_steering\n",
    "    \n",
    "    del record\n",
    "\n",
    "    # shuffle the data \n",
    "    shuffled_indices = list(range(len(image_names)))\n",
    "    random.shuffle(shuffled_indices)\n",
    "    image_names      = image_names[shuffled_indices]\n",
    "    current_steering = current_steering[shuffled_indices]\n",
    "    last_steering    = last_steering[shuffled_indices]\n",
    "\n",
    "    \n",
    "    images = [np.nan]*len(image_names)\n",
    "    for i, image_name in enumerate(image_names):\n",
    "        im = Image.open( PATH + \"/images/\" + image_name)\n",
    "                \n",
    "        image_array = np.asarray(im)\n",
    "        \n",
    "        # remove alpha channel (it is always zero)\n",
    "        if len(image_array.shape) == 3 and image_array.shape[2] == 4:\n",
    "            if (np.all(image_array[:, :, 3] == image_array[0, 0, 3])):\n",
    "                image_array = image_array[:,:,0:3]\n",
    "\n",
    "        images[i] = image_array\n",
    "    \n",
    "\n",
    "\n",
    "    # create the datasets\n",
    "    with h5py.File(file, 'w') as output_file:\n",
    "        \n",
    "        print(\"processing: \" + file[18:]) # print status message\n",
    "        \n",
    "        dset_images           = output_file.create_dataset(\"image\", data=images)\n",
    "        dset_current_steering = output_file.create_dataset(\"current_steering\", data=current_steering)\n",
    "        dset_last_steering    = output_file.create_dataset(\"last_steering\", data=last_steering)\n",
    "\n",
    "# free RAM\n",
    "del image_names\n",
    "del current_steering\n",
    "del last_steering\n",
    "    "
   ]
  }
 ],
 "metadata": {
  "kernelspec": {
   "display_name": "Python 3",
   "language": "python",
   "name": "python3"
  },
  "language_info": {
   "codemirror_mode": {
    "name": "ipython",
    "version": 3
   },
   "file_extension": ".py",
   "mimetype": "text/x-python",
   "name": "python",
   "nbconvert_exporter": "python",
   "pygments_lexer": "ipython3",
   "version": "3.5.2"
  }
 },
 "nbformat": 4,
 "nbformat_minor": 2
}
